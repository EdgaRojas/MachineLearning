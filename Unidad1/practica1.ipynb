{
  "nbformat": 4,
  "nbformat_minor": 0,
  "metadata": {
    "colab": {
      "provenance": [],
      "authorship_tag": "ABX9TyMwPYsUh07Fgsw9J5ZqXu1N",
      "include_colab_link": true
    },
    "kernelspec": {
      "name": "python3",
      "display_name": "Python 3"
    },
    "language_info": {
      "name": "python"
    }
  },
  "cells": [
    {
      "cell_type": "markdown",
      "metadata": {
        "id": "view-in-github",
        "colab_type": "text"
      },
      "source": [
        "<a href=\"https://colab.research.google.com/github/EdgaRojas/MachineLearning/blob/main/Unidad1/practica1.ipynb\" target=\"_parent\"><img src=\"https://colab.research.google.com/assets/colab-badge.svg\" alt=\"Open In Colab\"/></a>"
      ]
    },
    {
      "cell_type": "markdown",
      "source": [
        "# **Asignatura: Machine Learning**\n",
        "\n",
        "### **Unidad 1**\n",
        "\n",
        "### Docente: José Gabriel Rodríguez Rivas\n",
        "\n",
        "#### Alumno: Edgar Manuel Rojas Gurrola\n",
        "\n",
        "Practica 1: Data wrangling"
      ],
      "metadata": {
        "id": "5hl2We7L_jSB"
      }
    },
    {
      "cell_type": "code",
      "execution_count": null,
      "metadata": {
        "id": "Q3gyYPQ_-x64"
      },
      "outputs": [],
      "source": []
    }
  ]
}